{
 "cells": [
  {
   "cell_type": "code",
   "execution_count": 1,
   "metadata": {},
   "outputs": [
    {
     "name": "stdout",
     "output_type": "stream",
     "text": [
      "that is\n"
     ]
    }
   ],
   "source": [
    "import os\n",
    "import nltk\n",
    "from ngram import NGram"
   ]
  },
  {
   "cell_type": "code",
   "execution_count": 45,
   "metadata": {},
   "outputs": [],
   "source": [
    "def generate_lyrics(path, artist_name, n, length):\n",
    "    ngram = NGram(n)\n",
    "\n",
    "    # Process each song for a specific artist\n",
    "    for song in os.listdir(f\"{path}/{artist_name}\"):\n",
    "        # Read lyrics\n",
    "        with open(f\"{path}/{artist_name}/{song}\", \"r\") as f:\n",
    "            lyrics = f.read()\n",
    "        lyrics = nltk.word_tokenize(lyrics)\n",
    "        lyrics = list(filter(lambda token: token != \"(\" and token != \")\", lyrics))\n",
    "        if len(lyrics) == 0:\n",
    "            continue\n",
    "        # print(lyrics)\n",
    "        ngram.train(lyrics)\n",
    "\n",
    "    return ngram.generate_text(length)"
   ]
  },
  {
   "cell_type": "code",
   "execution_count": 46,
   "metadata": {},
   "outputs": [
    {
     "data": {
      "text/plain": [
       "\"alright guys , thank you so much do n't say 'cause it has to get up i still do n't you make up some other story but if i wanted her but she does n't like the brutal autumn sun it dawns on me how how it keeps a lid\""
      ]
     },
     "execution_count": 46,
     "metadata": {},
     "output_type": "execute_result"
    }
   ],
   "source": [
    "generate_lyrics(path = \"data\", artist_name = \"Tame Impala\", n = 3, length = 50)"
   ]
  },
  {
   "cell_type": "code",
   "execution_count": 47,
   "metadata": {},
   "outputs": [
    {
     "data": {
      "text/plain": [
       "'stay and help me to hang on john , we fall , we fall'"
      ]
     },
     "execution_count": 47,
     "metadata": {},
     "output_type": "execute_result"
    }
   ],
   "source": [
    "generate_lyrics(path = \"data\", artist_name = \"Pink Floyd\", n = 3, length = 50)"
   ]
  },
  {
   "cell_type": "code",
   "execution_count": 48,
   "metadata": {},
   "outputs": [
    {
     "data": {
      "text/plain": [
       "\"part : produced by streetrunner i also got a couple of screws up in deep thought again contemplating my next mill 's gon na get some people only see that girl 'cause i was not to be never lack lust in that , then i 'll still be humble when\""
      ]
     },
     "execution_count": 48,
     "metadata": {},
     "output_type": "execute_result"
    }
   ],
   "source": [
    "generate_lyrics(path = \"data\", artist_name = \"Eminem\", n = 3, length = 50)"
   ]
  },
  {
   "cell_type": "code",
   "execution_count": 49,
   "metadata": {},
   "outputs": [
    {
     "data": {
      "text/plain": [
       "'boom , b-boom , b-boom-boom drive slow , homie'"
      ]
     },
     "execution_count": 49,
     "metadata": {},
     "output_type": "execute_result"
    }
   ],
   "source": [
    "generate_lyrics(path = \"data\", artist_name = \"Kanye West\", n = 3, length = 50)"
   ]
  },
  {
   "cell_type": "code",
   "execution_count": 39,
   "metadata": {},
   "outputs": [
    {
     "data": {
      "text/plain": [
       "\"dearly depressed and broken hearted i 'd catch you if you see ? oh who are you okay ? you make your words roll off that cold shoulder tonight relapse you 're the sleigh , the devil told me not to taste 'em that you 'd be back then oh\""
      ]
     },
     "execution_count": 39,
     "metadata": {},
     "output_type": "execute_result"
    }
   ],
   "source": [
    "generate_lyrics(path = \"data\", artist_name = \"The Maine\", n = 3, length = 50)"
   ]
  },
  {
   "cell_type": "code",
   "execution_count": 50,
   "metadata": {},
   "outputs": [
    {
     "data": {
      "text/plain": [
       "'before you made me different from all the premises figuring youll be just fine so ill get mine you get yours and if this is my heave and my head are not the same chords the same so tell me why i feel the same chords the same dont want'"
      ]
     },
     "execution_count": 50,
     "metadata": {},
     "output_type": "execute_result"
    }
   ],
   "source": [
    "generate_lyrics(path = \"data\", artist_name = \"The Story So Far\", n = 3, length = 50)"
   ]
  }
 ],
 "metadata": {
  "interpreter": {
   "hash": "a1666db487a21e3df6510cf0af4f7a061b56a91bc2b3b47544a6ceb48548dc69"
  },
  "kernelspec": {
   "display_name": "Python 3.8.10 64-bit ('env': venv)",
   "language": "python",
   "name": "python3"
  },
  "language_info": {
   "codemirror_mode": {
    "name": "ipython",
    "version": 3
   },
   "file_extension": ".py",
   "mimetype": "text/x-python",
   "name": "python",
   "nbconvert_exporter": "python",
   "pygments_lexer": "ipython3",
   "version": "3.8.10"
  },
  "orig_nbformat": 4
 },
 "nbformat": 4,
 "nbformat_minor": 2
}
